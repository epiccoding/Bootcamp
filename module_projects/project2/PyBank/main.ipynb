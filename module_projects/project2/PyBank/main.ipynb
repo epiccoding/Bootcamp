{
 "cells": [
  {
   "cell_type": "code",
   "execution_count": null,
   "id": "4b97f244-1dd2-4aff-9593-f6cbaedf0a47",
   "metadata": {},
   "outputs": [],
   "source": [
    "%pip install pathlib\n",
    "\n",
    "from pathlib import Path\n",
    "import csv\n",
    "\n",
    "csvpath = r'C:/Users/Desktop/Bootcamp/Bootcamp/module_projects/project2/PyBank/Resources/budget_data.csv'\n",
    "\n",
    "with open(csvpath, \"r\") as csvfile:\n",
    "    \n",
    "    csvreader = csv.reader(csvfile, delimiter = ',')\n",
    "    \n",
    "    cvs_header = next(csvreader)\n",
    "    \n",
    "    print(csv_header)"
   ]
  },
  {
   "cell_type": "code",
   "execution_count": null,
   "id": "8668005d-b38a-40f4-97a3-28b602726561",
   "metadata": {},
   "outputs": [],
   "source": []
  }
 ],
 "metadata": {
  "kernelspec": {
   "display_name": "Python 3 (ipykernel)",
   "language": "python",
   "name": "python3"
  },
  "language_info": {
   "codemirror_mode": {
    "name": "ipython",
    "version": 3
   },
   "file_extension": ".py",
   "mimetype": "text/x-python",
   "name": "python",
   "nbconvert_exporter": "python",
   "pygments_lexer": "ipython3",
   "version": "3.7.15"
  }
 },
 "nbformat": 4,
 "nbformat_minor": 5
}
