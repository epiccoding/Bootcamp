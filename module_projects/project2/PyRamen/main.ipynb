{
 "cells": [
  {
   "cell_type": "code",
   "execution_count": 2,
   "id": "1a888a70",
   "metadata": {},
   "outputs": [
    {
     "ename": "KeyboardInterrupt",
     "evalue": "",
     "output_type": "error",
     "traceback": [
      "\u001b[1;31m---------------------------------------------------------------------------\u001b[0m",
      "\u001b[1;31mKeyboardInterrupt\u001b[0m                         Traceback (most recent call last)",
      "\u001b[1;32m~\\AppData\\Local\\Temp\\ipykernel_25980\\2175899727.py\u001b[0m in \u001b[0;36m<module>\u001b[1;34m\u001b[0m\n\u001b[0;32m     64\u001b[0m         \u001b[0mmenu_item\u001b[0m \u001b[1;33m=\u001b[0m \u001b[0mrow\u001b[0m\u001b[1;33m[\u001b[0m\u001b[1;36m0\u001b[0m\u001b[1;33m]\u001b[0m\u001b[1;33m\u001b[0m\u001b[1;33m\u001b[0m\u001b[0m\n\u001b[0;32m     65\u001b[0m         \u001b[0mmenu_price\u001b[0m \u001b[1;33m=\u001b[0m \u001b[0mfloat\u001b[0m\u001b[1;33m(\u001b[0m\u001b[0mrow\u001b[0m\u001b[1;33m[\u001b[0m\u001b[1;36m3\u001b[0m\u001b[1;33m]\u001b[0m\u001b[1;33m)\u001b[0m\u001b[1;33m\u001b[0m\u001b[1;33m\u001b[0m\u001b[0m\n\u001b[1;32m---> 66\u001b[1;33m         \u001b[0mmenu_cost\u001b[0m \u001b[1;33m=\u001b[0m \u001b[0mfloat\u001b[0m\u001b[1;33m(\u001b[0m\u001b[0mrow\u001b[0m\u001b[1;33m[\u001b[0m\u001b[1;36m4\u001b[0m\u001b[1;33m]\u001b[0m\u001b[1;33m)\u001b[0m\u001b[1;33m\u001b[0m\u001b[1;33m\u001b[0m\u001b[0m\n\u001b[0m\u001b[0;32m     67\u001b[0m \u001b[1;33m\u001b[0m\u001b[0m\n\u001b[0;32m     68\u001b[0m         \u001b[1;31m# @TODO: Calculate profit of each item in the menu data\u001b[0m\u001b[1;33m\u001b[0m\u001b[1;33m\u001b[0m\u001b[1;33m\u001b[0m\u001b[0m\n",
      "\u001b[1;31mKeyboardInterrupt\u001b[0m: "
     ]
    }
   ],
   "source": [
    "import csv\n",
    "from pathlib import Path\n",
    "\n",
    "sales_filepath = Path('Resources/sales_data.csv')\n",
    "menu_filepath = Path('Resources/menu_data.csv')\n",
    "\n",
    "# @TODO: Initialize list objects to hold our menu and sales data\n",
    "\n",
    "menu = []\n",
    "sales = []\n",
    "\n",
    "# @TODO: Read in the menu data into the menu list\n",
    "\n",
    "with open(menu_filepath) as menufile:\n",
    "    csvreader = csv.reader(menufile, delimiter = ',')\n",
    "\n",
    "    header = next (csvreader)\n",
    "\n",
    "    for row in csvreader:\n",
    "        menu.append(row)\n",
    "\n",
    "\n",
    "# @TODO: Read in the sales data into the sales list\n",
    "\n",
    "with open(sales_filepath) as salesfile:\n",
    "    csvreader = csv.reader(salesfile, delimiter = ',')\n",
    "\n",
    "    header = next (csvreader)\n",
    "\n",
    "    for row in csvreader:\n",
    "        sales.append(row)\n",
    "\n",
    "# @TODO: Initialize dict object to hold our key-value pairs of items and metrics\n",
    "\n",
    "report = {}\n",
    "\n",
    "# Initialize a row counter variable\n",
    "\n",
    "row_count = 0\n",
    "\n",
    "# @TODO: Loop over every row in the sales list object\n",
    "\n",
    "for row in sales:\n",
    "\n",
    "    # Line_Item_ID,Date,Credit_Card_Number,Quantity,Menu_Item\n",
    "    # @TODO: Initialize sales data variables\n",
    "\n",
    "    sales_quantity = row[3]\n",
    "    sales_menu_item = row[4]\n",
    "\n",
    "    # @TODO:\n",
    "    # If the item value not in the report, add it as a new entry with initialized metrics\n",
    "    # Naming convention allows the keys to be ordered in logical fashion, count, revenue, cost, profit\n",
    "    \n",
    "    if sales_menu_item not in report:\n",
    "        report[sales_menu_item] = {\"01-count\": 0, \"02-revenue\": 0, \"03-cogs\": 0, \"04-profit\": 0,}\n",
    "\n",
    "    # @TODO: For every row in our sales data, loop over the menu records to determine a match\n",
    "\n",
    "    for row in menu:\n",
    "\n",
    "        # Item,Category,Description,Price,Cost\n",
    "        # @TODO: Initialize menu data variables\n",
    "        menu_item = row[0]\n",
    "        menu_price = float(row[3])\n",
    "        menu_cost = float(row[4])\n",
    "\n",
    "        # @TODO: Calculate profit of each item in the menu data\n",
    "        profit = menu_price - menu_cost\n",
    "\n",
    "        # @TODO: If the item value in our sales data is equal to the any of the items in the menu, then begin tracking metrics for that item\n",
    "        if sales_menu_item == menu_item:\n",
    "\n",
    "            # @TODO: Print out matching menu data\n",
    "\n",
    "            # @TODO: Cumulatively add up the metrics for each item key\n",
    "            report[sales_menu_item]['01-count'] += int(sales_quantity)\n",
    "            report[sales_menu_item]['02-revenue'] += menu_price * int(sales_quantity)\n",
    "            report[sales_menu_item]['03-cogs'] += menu_cost * int(sales_quantity)\n",
    "            report[sales_menu_item]['04-profit'] += profit * int(sales_quantity)\n",
    "            \n",
    "        # @TODO: Else, the sales item does not equal any fo the item in the menu data, therefore no match\n",
    "        elif menu_item != sales_menu_item:\n",
    "                sales.append(f\"{sales_menu_item} does not equal {menu_item}, no match\")\n",
    "\n",
    "print(report)"
   ]
  },
  {
   "cell_type": "code",
   "execution_count": null,
   "id": "a2fb732e",
   "metadata": {},
   "outputs": [],
   "source": [
    "    # @TODO: Increment the row counter by 1\n",
    "row_count += 1\n",
    "\n",
    "# @TODO: Print total number of records in sales data\n",
    "print(sales_id)\n",
    "\n",
    "# @TODO: Write out report to a text file (won't appear on the command line output)\n",
    "with open('output.txt', 'w') as w:\n",
    "    for row in report:\n",
    "        w.write(row)"
   ]
  }
 ],
 "metadata": {
  "kernelspec": {
   "display_name": "dev",
   "language": "python",
   "name": "python3"
  },
  "language_info": {
   "codemirror_mode": {
    "name": "ipython",
    "version": 3
   },
   "file_extension": ".py",
   "mimetype": "text/x-python",
   "name": "python",
   "nbconvert_exporter": "python",
   "pygments_lexer": "ipython3",
   "version": "3.7.15"
  },
  "vscode": {
   "interpreter": {
    "hash": "907d1be9c273b97970c4c20be6e14730085357b793fe08684d765309af00febe"
   }
  }
 },
 "nbformat": 4,
 "nbformat_minor": 5
}
